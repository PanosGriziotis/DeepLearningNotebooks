{
 "cells": [
  {
   "cell_type": "markdown",
   "metadata": {
    "id": "kH673ciyiH5n"
   },
   "source": [
    "## SENTIMENT ANALYSIS WITH RNN & CNN ARCHITECTURES\n",
    "\n",
    "In this  notebook the aim is to develop models based on different Neural Network architectures for the task of binary sentiment classification. Two CNN models and two LSTM models were trained and evaluated on IMDB dataset (http://ai.stanford.edu/~amaas/data/sentiment/) which contains negative and positive movie reviews (50.000 in total). In two of the four models, pre-trained GloVe embeddings were used (https://nlp.stanford.edu/projects/glove/) "
   ]
  },
  {
   "cell_type": "code",
   "execution_count": 36,
   "metadata": {
    "id": "0htrM-8lyJmW"
   },
   "outputs": [],
   "source": [
    "#!wget http://ai.stanford.edu/~amaas/data/sentiment/aclImdb_v1.tar.gz\n",
    "#!tar -xvf aclImdb_v1.tar.gz -C /content/drive/MyDrive/Deep_Learning_Ass_2_3"
   ]
  },
  {
   "cell_type": "code",
   "execution_count": 37,
   "metadata": {
    "id": "ddXSGzjXBAUG"
   },
   "outputs": [],
   "source": [
    "#!wget https://nlp.stanford.edu/data/glove.6B.zip\n",
    "#!unzip '/content/drive/MyDrive/Deep_Learning_Ass_2_3/glove.6B.zip' -d \"/content/drive/MyDrive/Deep_Learning_Ass_2_3\""
   ]
  },
  {
   "cell_type": "code",
   "execution_count": 5,
   "metadata": {
    "colab": {
     "base_uri": "https://localhost:8080/"
    },
    "id": "mjr4cn8OXQMg",
    "outputId": "ac213c94-663a-4281-f442-c23e7bb28724"
   },
   "outputs": [
    {
     "name": "stdout",
     "output_type": "stream",
     "text": [
      "[nltk_data] Downloading package stopwords to /root/nltk_data...\n",
      "[nltk_data]   Unzipping corpora/stopwords.zip.\n",
      "[nltk_data] Downloading package punkt to /root/nltk_data...\n",
      "[nltk_data]   Unzipping tokenizers/punkt.zip.\n"
     ]
    }
   ],
   "source": [
    "import glob\n",
    "import string\n",
    "import re\n",
    "import pandas as pd\n",
    "import numpy as np\n",
    "import nltk\n",
    "from nltk.tokenize import word_tokenize\n",
    "from nltk.corpus import stopwords\n",
    "nltk.download('stopwords')\n",
    "nltk.download('punkt')\n",
    "import torch\n",
    "from torch.utils.data import DataLoader, TensorDataset\n",
    "from torch import nn\n",
    "import torch.nn.functional as F\n",
    "from torch import optim\n",
    "import matplotlib.pyplot as plt\n",
    "from sklearn.model_selection import train_test_split"
   ]
  },
  {
   "cell_type": "code",
   "execution_count": 6,
   "metadata": {
    "colab": {
     "base_uri": "https://localhost:8080/"
    },
    "id": "UjmInQl3RgSv",
    "outputId": "11af574c-72c7-4e6f-b6a8-8c58c46734d9"
   },
   "outputs": [
    {
     "name": "stdout",
     "output_type": "stream",
     "text": [
      "GPU is available\n"
     ]
    }
   ],
   "source": [
    "# Set Device\n",
    "\n",
    "is_cuda = torch.cuda.is_available()\n",
    "\n",
    "if is_cuda:\n",
    "    device = torch.device(\"cuda\")\n",
    "    print(\"GPU is available\")\n",
    "else:\n",
    "    device = torch.device(\"cpu\")\n",
    "    print(\"GPU not available, CPU used\")"
   ]
  },
  {
   "cell_type": "markdown",
   "metadata": {
    "id": "xQh79DMM9ZqB"
   },
   "source": [
    "## Load & Clean data"
   ]
  },
  {
   "cell_type": "code",
   "execution_count": 9,
   "metadata": {
    "colab": {
     "base_uri": "https://localhost:8080/"
    },
    "id": "pHQDPnwZQdWv",
    "outputId": "e5c046f4-8bd6-4b57-8c96-125e93c9fe35"
   },
   "outputs": [
    {
     "name": "stdout",
     "output_type": "stream",
     "text": [
      "/content/drive/MyDrive/Deep_Learning_Ass_2_3/aclImdb\n"
     ]
    }
   ],
   "source": [
    "os.chdir('/content/drive/MyDrive/Deep_Learning_Ass_2_3/aclImdb')\n",
    "!pwd"
   ]
  },
  {
   "cell_type": "code",
   "execution_count": 10,
   "metadata": {
    "colab": {
     "base_uri": "https://localhost:8080/"
    },
    "id": "6DymVLj9iQu8",
    "outputId": "daffd2a9-995e-4c7c-f917-45a445e5be27"
   },
   "outputs": [
    {
     "name": "stdout",
     "output_type": "stream",
     "text": [
      "                                                 Reviews  Sentiment\n",
      "0      know john singletons smart guy coz made boyz n...          1\n",
      "1      disappointed movie plotwise weak bordering sil...          1\n",
      "2      ive seen film sky cinema long ago must admit r...          0\n",
      "3      yes copy vhs uncut great condition transfered ...          0\n",
      "4      relatively small budget animated film  million...          0\n",
      "...                                                  ...        ...\n",
      "49995  movie powerful watched movie  suppose work  am...          0\n",
      "49996  reason give movie even single star much ending...          1\n",
      "49997  film made senegal based guess loosely carmen b...          1\n",
      "49998  comment movie gave  rating opinion thats prett...          1\n",
      "49999  movies grabbed attention like one has see want...          0\n",
      "\n",
      "[50000 rows x 2 columns]\n"
     ]
    }
   ],
   "source": [
    "pos_files = glob.glob('./**/pos/*.txt',recursive=True)\n",
    "neg_files = glob.glob('./**/neg/*.txt',recursive=True)\n",
    "\n",
    "def read_review (file):\n",
    "  with open(file,'r',encoding='utf-8') as reader:\n",
    "    text = reader.read().lower().rstrip()\n",
    "    return text\n",
    "\n",
    "def process_review (text): \n",
    "  stop = set(stopwords.words('english'))\n",
    "  text = text.replace('<br /><br />','') \n",
    "  text = ' '.join(token for token in text.split() if token not in stop)\n",
    "  text = re.sub(r\"[^\\w\\s]\", '', text)\n",
    "  text = re.sub(r\"\\d\", '',text)\n",
    "  return text \n",
    "    \n",
    "def get_all_reviews (files):\n",
    "  return [process_review(read_review(file)) for file in files]\n",
    "\n",
    "neg_reviews = get_all_reviews(pos_files)\n",
    "pos_reviews = get_all_reviews(neg_files)\n",
    "\n",
    "neg_df = pd.DataFrame(list(zip(neg_reviews, [0]*len(neg_reviews))),\n",
    "               columns =['Reviews', 'Sentiment'])\n",
    "\n",
    "pos_df = pd.DataFrame(list(zip(pos_reviews, [1]*len(pos_reviews))),\n",
    "               columns =['Reviews', 'Sentiment'])\n",
    "\n",
    "data = pd.concat([neg_df,pos_df]).sample(frac=1)\n",
    "data.reset_index(drop=True,inplace=True)\n",
    "\n",
    "labels = np.array([int(value) for value in data['Sentiment'].values]).astype('float64')\n",
    "inputs = np.array([value for value in data['Reviews'].values])\n",
    "\n",
    "print(data)"
   ]
  },
  {
   "cell_type": "markdown",
   "metadata": {
    "id": "7f6ul6XU-cms"
   },
   "source": [
    "## Split Data into Train, Validation and Test"
   ]
  },
  {
   "cell_type": "code",
   "execution_count": 12,
   "metadata": {
    "id": "yBteCgOI0Osc"
   },
   "outputs": [],
   "source": [
    "split_ratio = 0.8\n",
    "\n",
    "labels = list(data['Sentiment'])\n",
    "inputs = list(data['Reviews'])\n",
    "X_train, X_remain, y_train, y_remain = train_test_split(inputs, labels, train_size=split_ratio)\n",
    "X_valid, X_test, y_valid, y_test = train_test_split(X_remain, y_remain, train_size=0.5)"
   ]
  },
  {
   "cell_type": "markdown",
   "metadata": {
    "id": "kzTkrNuWkZH9"
   },
   "source": [
    "## Build Vocabulary & Create Mappings"
   ]
  },
  {
   "cell_type": "code",
   "execution_count": null,
   "metadata": {
    "id": "6FO5MHNHgJaw"
   },
   "outputs": [],
   "source": [
    "def tokenize(sentences):\n",
    "  tokenized_sentences = []\n",
    "  for sent in sentences:\n",
    "    tokenized_sentences.append(word_tokenize(sent))\n",
    "  return tokenized_sentences\n",
    "\n",
    "def build_vocab (reviews):\n",
    "  tokens = []\n",
    "  for tok_review in tokenize(reviews):\n",
    "    for token in tok_review:\n",
    "      tokens.append(token)\n",
    "  vocab = set(tokens)\n",
    "  return vocab\n",
    "\n",
    "def create_dicts(unique_words):\n",
    "  word2idx = {}\n",
    "  word2idx['<pad>'] = 0\n",
    "  word2idx['<ukn>'] = 1\n",
    "  idx = 2\n",
    "  for word in unique_words:\n",
    "    word2idx[word] = idx\n",
    "    idx += 1\n",
    "  idx2word = {idx : word for word, idx in word2idx.items()}\n",
    "  return word2idx, idx2word"
   ]
  },
  {
   "cell_type": "code",
   "execution_count": null,
   "metadata": {
    "colab": {
     "base_uri": "https://localhost:8080/"
    },
    "id": "HKLtZKsTum3X",
    "outputId": "843945bf-e3ea-4a57-f806-28bc6a48d59b"
   },
   "outputs": [
    {
     "name": "stdout",
     "output_type": "stream",
     "text": [
      "unique words:\t 215098\n"
     ]
    }
   ],
   "source": [
    "vocab = build_vocab(neg_reviews + pos_reviews)\n",
    "word2idx, idx2word = create_dicts(vocab) \n",
    "\n",
    "print ('unique words:\\t',len(word2idx))"
   ]
  },
  {
   "cell_type": "code",
   "execution_count": null,
   "metadata": {
    "colab": {
     "base_uri": "https://localhost:8080/"
    },
    "id": "Ymj7pyhC4y5j",
    "outputId": "42f3c09e-c21a-472e-ac95-06c473648a08"
   },
   "outputs": [
    {
     "name": "stdout",
     "output_type": "stream",
     "text": [
      "Max review sequence length before encoding:\t 1443\n"
     ]
    }
   ],
   "source": [
    "MAX_LEN = np.max([len(review)for review in tokenize(inputs)])\n",
    "print ('Max review sequence length before encoding:\\t',MAX_LEN)"
   ]
  },
  {
   "cell_type": "markdown",
   "metadata": {
    "id": "ypZdCHdd-Yex"
   },
   "source": [
    "## Encode Input Sentences Into Vectors"
   ]
  },
  {
   "cell_type": "code",
   "execution_count": null,
   "metadata": {
    "id": "6FsDLao7EWit"
   },
   "outputs": [],
   "source": [
    "seq_length =  300\n",
    "\n",
    "def encoding (reviews, max_len):\n",
    "  \"\"\" \n",
    "  1) Truncate very long input sentences\n",
    "  2) Add padding idx (0) short sentences\n",
    "  2) Encode input sentences in arrays of shape N x seq_length\n",
    "  \"\"\"\n",
    "  padded_reviews = []\n",
    "  tokenized_rev = tokenize(reviews)\n",
    "  for review in tokenized_rev:\n",
    "    if len(review) >= max_len:\n",
    "      padded_reviews.append(review[:max_len])\n",
    "    else:\n",
    "      padded_reviews.append(['<pad>']*(max_len-len(review)) + review)\n",
    "  encoded_reviews = np.array([[word2idx[word]for word in review]for review in padded_reviews]).astype('float64')\n",
    "  return encoded_reviews"
   ]
  },
  {
   "cell_type": "code",
   "execution_count": null,
   "metadata": {
    "colab": {
     "base_uri": "https://localhost:8080/"
    },
    "id": "ZrCcjLXKudq3",
    "outputId": "b7c59313-f379-4d1e-c84e-b7514caecc2b"
   },
   "outputs": [
    {
     "name": "stdout",
     "output_type": "stream",
     "text": [
      "\t\t\tFeatures Shapes:\n",
      "Train set: \t\t(40000, 300) \n",
      "Validation set: \t(5000, 300) \n",
      "Test set: \t\t(5000, 300)\n"
     ]
    }
   ],
   "source": [
    "X_train_encoded = encoding (X_train,seq_length)\n",
    "X_valid_encoded = encoding (X_valid, seq_length)\n",
    "X_test_encoded = encoding (X_test, seq_length)\n",
    "\n",
    "print(\"\\t\\t\\tFeatures Shapes:\")\n",
    "print(\"Train set: \\t\\t{}\".format(X_train_encoded.shape),\n",
    "      \"\\nValidation set: \\t{}\".format(X_valid_encoded.shape),\n",
    "      \"\\nTest set: \\t\\t{}\".format(X_test_encoded.shape))"
   ]
  },
  {
   "cell_type": "markdown",
   "metadata": {
    "id": "zOVws91B9zeN"
   },
   "source": [
    "## Load Pretrained Embeddings (Glove)"
   ]
  },
  {
   "cell_type": "code",
   "execution_count": null,
   "metadata": {
    "colab": {
     "base_uri": "https://localhost:8080/"
    },
    "id": "v4IwpVU8o51j",
    "outputId": "ef8af3f0-038c-4b5a-caff-f5b379658188"
   },
   "outputs": [
    {
     "name": "stdout",
     "output_type": "stream",
     "text": [
      "Loading pretrained vectors...\n",
      "\n",
      "76033 / 215098 pretrained vectors found.\n",
      "\n",
      "torch.Size([215098, 50])\n"
     ]
    }
   ],
   "source": [
    "def load_pretrained_vectors(word2idx, file_name):\n",
    "\n",
    "  N_vocab = len(word2idx) # vocab dimensions\n",
    "  d = 50  # embedding dimensions\n",
    "  \n",
    "  # Initilize random embeddings\n",
    "  embeddings = np.random.uniform(-0.25, 0.25, (N_vocab, d)) \n",
    "  embeddings[word2idx['<pad>']] = np.zeros((50,))\n",
    "\n",
    "  print(\"Loading pretrained vectors...\")\n",
    "    \n",
    "  with open(file_name, 'rt', encoding='utf-8',newline='\\n',errors='ignore') as lines:\n",
    "    count = 0\n",
    "    for line in lines:\n",
    "      tokens = line.rstrip().split(' ')\n",
    "      word = tokens[0]\n",
    "      if word in word2idx:\n",
    "        count += 1\n",
    "        embeddings[word2idx[word]] = np.array(tokens[1:], dtype=np.float32)\n",
    "  print()\n",
    "  print(f\"{count} / {N_vocab} pretrained vectors found.\")\n",
    "\n",
    "  return embeddings\n",
    "\n",
    "# create glove embedding tensors\n",
    "glove_embeddings  = load_pretrained_vectors(word2idx,'../glove.6B.50d.txt' )\n",
    "glove_embeddings = torch.from_numpy(glove_embeddings)\n",
    "print()\n",
    "print (glove_embeddings.shape)\n"
   ]
  },
  {
   "cell_type": "markdown",
   "metadata": {
    "id": "lOHGVoqb-m2A"
   },
   "source": [
    "## Create Datasets &  Dataloaders\n"
   ]
  },
  {
   "cell_type": "code",
   "execution_count": null,
   "metadata": {
    "id": "1JhMs4eLG0Bl"
   },
   "outputs": [],
   "source": [
    "# Create batches of data tensors \n",
    "\n",
    "batch_size = 20 \n",
    "\n",
    "train_data = TensorDataset(torch.LongTensor(X_train_encoded).long(), torch.LongTensor(y_train).long())\n",
    "valid_data = TensorDataset(torch.LongTensor(X_valid_encoded).long(), torch.LongTensor(y_valid).long())\n",
    "test_data = TensorDataset(torch.LongTensor(X_test_encoded).long(), torch.LongTensor(y_test).long())\n",
    "\n",
    "train_loader = DataLoader(train_data, shuffle=True, batch_size=batch_size,drop_last=True)\n",
    "valid_loader = DataLoader(valid_data, shuffle=True, batch_size=batch_size)\n",
    "test_loader = DataLoader(test_data, shuffle=True, batch_size=batch_size)"
   ]
  },
  {
   "cell_type": "code",
   "execution_count": null,
   "metadata": {
    "colab": {
     "base_uri": "https://localhost:8080/"
    },
    "id": "qupc0bbGHjzK",
    "outputId": "ddaa9976-66de-4005-c281-7bf6ba56069f"
   },
   "outputs": [
    {
     "name": "stdout",
     "output_type": "stream",
     "text": [
      "simple encoding:\n",
      "\n",
      "tensor([[     0,      0,      0,  ..., 144492,  68679, 112848],\n",
      "        [     0,      0,      0,  ...,  52245, 137848, 171019],\n",
      "        [     0,      0,      0,  ...,  30122,  59280, 160719],\n",
      "        ...,\n",
      "        [ 21039,  34302,  32027,  ..., 183450, 200298, 159130],\n",
      "        [     0,      0,      0,  ...,   1021, 157224, 121197],\n",
      "        [     0,      0,      0,  ...,  43904,  14694, 112848]])\n",
      "\n",
      "embedding:\n",
      "\n",
      "tensor([[ 0.0000,  0.0000,  0.0000,  ...,  0.0000,  0.0000,  0.0000],\n",
      "        [ 0.0000,  0.0000,  0.0000,  ...,  0.0000,  0.0000,  0.0000],\n",
      "        [ 0.0000,  0.0000,  0.0000,  ...,  0.0000,  0.0000,  0.0000],\n",
      "        ...,\n",
      "        [ 0.4006,  0.4848, -0.0599,  ...,  0.1685, -0.4125, -0.1568],\n",
      "        [ 0.4040,  0.3878,  0.5340,  ...,  0.8472, -0.5572,  0.3002],\n",
      "        [ 0.0265,  0.3374,  0.0657,  ..., -0.3398, -0.2304,  0.1907]],\n",
      "       dtype=torch.float64)\n"
     ]
    }
   ],
   "source": [
    "emb = nn.Embedding.from_pretrained(glove_embeddings)\n",
    "for input, l in train_loader:\n",
    "  print('simple encoding:\\n')\n",
    "  print (input)\n",
    "  print('\\nembedding:\\n')\n",
    "  print ((emb(input[0])))\n",
    "  break"
   ]
  },
  {
   "cell_type": "markdown",
   "metadata": {
    "id": "06HotZhRyy96"
   },
   "source": [
    "## Build Models"
   ]
  },
  {
   "cell_type": "markdown",
   "metadata": {
    "id": "hMjzyEMq_JBX"
   },
   "source": [
    "### Hyperparameters Settings"
   ]
  },
  {
   "cell_type": "code",
   "execution_count": null,
   "metadata": {
    "id": "-m1OovqWfQgO"
   },
   "outputs": [],
   "source": [
    "vocab_size = len(word2idx)\n",
    "embed_dim = 50\n",
    "hidden_dim = 64\n",
    "output_dim = 1\n",
    "dropout = 0.2\n",
    "n_layers = 1\n",
    "lr = 0.01\n",
    "n_epochs = 5\n",
    "n_filters = 100\n",
    "filter_sizes = [3,4,5]\n",
    "pad_idx = word2idx['<pad>']"
   ]
  },
  {
   "cell_type": "markdown",
   "metadata": {
    "id": "IRkyncKj_RS4"
   },
   "source": [
    "### LSTM"
   ]
  },
  {
   "cell_type": "code",
   "execution_count": null,
   "metadata": {
    "id": "QqEfAXEEyx6-"
   },
   "outputs": [],
   "source": [
    "class LSTM(nn.Module):\n",
    "\n",
    "    def __init__(self,\n",
    "                       output_dim = output_dim,\n",
    "                       embed_dim = embed_dim,\n",
    "                       hidden_dim = hidden_dim,\n",
    "                       n_layers = n_layers,\n",
    "                       pretrained_emb = None,\n",
    "                       vocab_size = vocab_size,\n",
    "                       drop=dropout):\n",
    "\n",
    "        super(LSTM, self).__init__()\n",
    "\n",
    "        self.output_dim = output_dim\n",
    "        self.hidden_dim = hidden_dim\n",
    "        self.n_layers = n_layers\n",
    "\n",
    "        # Embedding L\n",
    "        if pretrained_emb is not None:\n",
    "            self.vocab_size, self.embed_dim = pretrained_emb.shape\n",
    "            self.embedding = nn.Embedding.from_pretrained(pretrained_emb,\n",
    "                                                          freeze=False)\n",
    "        else:\n",
    "            self.embed_dim = embed_dim\n",
    "            self.embedding = nn.Embedding(num_embeddings=vocab_size,\n",
    "                                          embedding_dim=self.embed_dim)  \n",
    "        # LSTM L\n",
    "        self.lstm = nn.LSTM(self.embed_dim, hidden_dim, n_layers,batch_first=True,\n",
    "                            dropout=drop)      \n",
    "        # Fully Connected L\n",
    "        self.fc = nn.Linear(hidden_dim, output_dim)\n",
    "        # Dropout L\n",
    "        self.dropout = nn.Dropout(drop)\n",
    "        # Output\n",
    "        self.sig = nn.Sigmoid()\n",
    "\n",
    "    def forward(self, x, hidden):\n",
    "\n",
    "        batch_size = x.size(0)     \n",
    "        embeds = self.embedding(x)\n",
    "        lstm_out, hidden = self.lstm(embeds, hidden)    \n",
    "        lstm_out = lstm_out.contiguous().view(-1, self.hidden_dim)           \n",
    "        out = self.dropout(lstm_out)\n",
    "        out = self.fc(out)      \n",
    "        sig_out = self.sig(out)\n",
    "        sig_out = sig_out.view(batch_size, -1)\n",
    "        sig_out = sig_out[:, -1] \n",
    "               \n",
    "        return sig_out, hidden\n",
    "      \n",
    "    def init_hidden(self, batch_size):\n",
    "\n",
    "        weight = next(self.parameters()).data\n",
    "        hidden = (weight.new(self.n_layers, batch_size, self.hidden_dim).zero_().to(device),\n",
    "                  weight.new(self.n_layers, batch_size, self.hidden_dim).zero_().to(device))\n",
    "        \n",
    "        return hidden"
   ]
  },
  {
   "cell_type": "markdown",
   "metadata": {
    "id": "HyHCDx9mfFXb"
   },
   "source": [
    "### CNN"
   ]
  },
  {
   "cell_type": "code",
   "execution_count": null,
   "metadata": {
    "id": "n4-N3IiOyust"
   },
   "outputs": [],
   "source": [
    "class CNN_1(nn.Module):\n",
    "    def __init__(self, \n",
    "                 pretrained_emb=None,\n",
    "                 vocab_siz=vocab_size,\n",
    "                 embed_dim=embed_dim,\n",
    "                 n_filters=n_filters,\n",
    "                 filter_sizes=filter_sizes,\n",
    "                 output_dim=output_dim, \n",
    "                 dropout=dropout,\n",
    "                 pad_idx=pad_idx):\n",
    "        \n",
    "        super().__init__()\n",
    "\n",
    "        # Embedding L\n",
    "        if pretrained_emb is not None:\n",
    "            self.vocab_size, self.embed_dim = pretrained_emb.shape\n",
    "            self.embedding = nn.Embedding.from_pretrained(pretrained_emb, freeze=False)\n",
    "        else:\n",
    "            self.embed_dim = embed_dim\n",
    "            self.embedding = nn.Embedding(num_embeddings=vocab_size, embedding_dim=self.embed_dim, padding_idx=pad_idx, max_norm=5.0)\n",
    "        \n",
    "        # Conv Network L\n",
    "        self.convs = nn.ModuleList([\n",
    "                                    nn.Conv2d(in_channels = 1, \n",
    "                                              out_channels = n_filters, \n",
    "                                              kernel_size = (fs, self.embed_dim)) \n",
    "                                    for fs in filter_sizes\n",
    "                                    ]) \n",
    "        # Fully Connected L\n",
    "        self.fc = nn.Linear(len(filter_sizes) * n_filters, output_dim)\n",
    "        # Dropout L\n",
    "        self.dropout = nn.Dropout(dropout)\n",
    "        \n",
    "    def forward(self, text):    \n",
    "        \n",
    "        embedded = self.embedding(text) # [batch size, sent len, emb dim]      \n",
    "        embedded = embedded.unsqueeze(1) # [batch size, 1, sent len, emb dim]\n",
    "        conved = [F.relu(conv(embedded)).squeeze(3) for conv in self.convs] # [batch size, n_filters, sent len - filter_sizes[n] + 1]\n",
    "        pooled = [F.max_pool1d(conv, conv.shape[2]).squeeze(2) for conv in conved] # [batch size, n_filters]\n",
    "        cat = self.dropout(torch.cat(pooled, dim = 1)) # [batch size, n_filters * len(filter_sizes)]\n",
    "            \n",
    "        return self.fc(cat)"
   ]
  },
  {
   "cell_type": "markdown",
   "metadata": {
    "id": "kNGgnYohfMQk"
   },
   "source": [
    "## Create Model Instances & Define Loss Functions and Optimizers"
   ]
  },
  {
   "cell_type": "code",
   "execution_count": null,
   "metadata": {
    "colab": {
     "base_uri": "https://localhost:8080/"
    },
    "id": "WpUsusrShRwQ",
    "outputId": "00e2489e-4b5f-427d-fd30-b87392664ede"
   },
   "outputs": [
    {
     "name": "stderr",
     "output_type": "stream",
     "text": [
      "/usr/local/lib/python3.7/dist-packages/torch/nn/modules/rnn.py:65: UserWarning: dropout option adds dropout after all but last recurrent layer, so non-zero dropout expects num_layers greater than 1, but got dropout=0.2 and num_layers=1\n",
      "  \"num_layers={}\".format(dropout, num_layers))\n"
     ]
    }
   ],
   "source": [
    "cnn = CNN_1()\n",
    "cnn.to(device)\n",
    "cnn_gl = CNN_1(pretrained_emb=glove_embeddings)\n",
    "cnn_gl.to(device)\n",
    "lstm =  LSTM()\n",
    "lstm.to(device)\n",
    "lstm_gl = LSTM(pretrained_emb=glove_embeddings)\n",
    "lstm_gl.to(device)\n",
    "\n",
    "loss_fn_BCE = nn.BCELoss() # for LSTM models\n",
    "loss_fn_BCEwl = nn.BCEWithLogitsLoss() # for CNN models\n",
    "\n",
    "opt_cnn = torch.optim.Adam(cnn.parameters(), lr=lr)\n",
    "opt_cnn_gl = torch.optim.Adam(cnn_gl.parameters(), lr=lr)\n",
    "opt_lstm = torch.optim.Adam(lstm.parameters(), lr=lr)\n",
    "opt_lstm_gl = torch.optim.Adam(lstm_gl.parameters(), lr=lr)"
   ]
  },
  {
   "cell_type": "markdown",
   "metadata": {
    "id": "oDEw1OHPekgQ"
   },
   "source": [
    "## Train and Validate Models"
   ]
  },
  {
   "cell_type": "code",
   "execution_count": null,
   "metadata": {
    "id": "otY6ku_i2a8B"
   },
   "outputs": [],
   "source": [
    "def accuracy(preds, targets, m_type=None):\n",
    "  \"\"\"\n",
    "  Compute accuracy per batch\n",
    "  \"\"\"\n",
    "  if m_type == 'lstm':\n",
    "    rounded_preds = torch.round(preds)\n",
    "  else:\n",
    "    rounded_preds = torch.round(torch.sigmoid(preds))\n",
    "  correct = (rounded_preds == targets).float()\n",
    "  acc = correct.sum() / len(correct)\n",
    "  return acc"
   ]
  },
  {
   "cell_type": "code",
   "execution_count": null,
   "metadata": {
    "id": "R1WPxSYRWbA_"
   },
   "outputs": [],
   "source": [
    "def train_LSTM(model, loader, optimizer, loss_fn, m_type='lstm'):\n",
    "    \"\"\"\n",
    "    Train LSTM models\n",
    "    \"\"\"\n",
    "    epoch_loss = 0\n",
    "    epoch_acc = 0\n",
    "    \n",
    "    model.train()\n",
    "    model.float()\n",
    "\n",
    "    h = model.init_hidden(batch_size)\n",
    "\n",
    "    for inputs, labels in loader:     \n",
    "        inputs, labels = inputs.to(device), labels.to(device)\n",
    "        h = tuple([each.data for each in h])\n",
    "        optimizer.zero_grad()\n",
    "        output, h = model(inputs.squeeze(), h)\n",
    "        loss = loss_fn(output, labels.float())\n",
    "        acc = accuracy(output, labels.float(), m_type=m_type)\n",
    "        loss.backward()\n",
    "        nn.utils.clip_grad_norm_(model.parameters(),5)\n",
    "        optimizer.step()\n",
    "        epoch_loss += loss.item()\n",
    "        epoch_acc += acc.item()\n",
    "\n",
    "    train_loss, train_accuracy = epoch_loss / len(loader), epoch_acc / len(loader) \n",
    "\n",
    "    return train_loss, train_accuracy\n",
    "\n",
    "def evaluate_LSTM(model, loader, loss_fn, m_type = 'lstm'):\n",
    "    \"\"\" \n",
    "    Evaluate LSTM models\n",
    "    \"\"\"\n",
    "    epoch_loss = 0\n",
    "    epoch_acc = 0\n",
    "\n",
    "    model.eval()\n",
    "    model.float()\n",
    "\n",
    "    h = model.init_hidden(batch_size)\n",
    "    \n",
    "    with torch.no_grad():\n",
    "    \n",
    "        for inputs, labels in loader:\n",
    "          inputs, labels = inputs.to(device), labels.to(device)\n",
    "          h = tuple([each.data for each in h])\n",
    "          output, h = model(inputs.squeeze(), h)\n",
    "          loss = loss_fn(output, labels.float())          \n",
    "          acc = accuracy(output, labels.float(), m_type=m_type)\n",
    "          epoch_loss += loss.item()\n",
    "          epoch_acc += acc.item()\n",
    "\n",
    "    eval_loss, eval_accuracy = epoch_loss / len(loader), epoch_acc / len(loader)\n",
    "\n",
    "    return eval_loss, eval_accuracy"
   ]
  },
  {
   "cell_type": "code",
   "execution_count": null,
   "metadata": {
    "id": "ZUjvgIgM1z0n"
   },
   "outputs": [],
   "source": [
    "def train_CNN(model, loader, optimizer, loss_fn):\n",
    "    \"\"\" \n",
    "    Train CNN models\n",
    "    \"\"\"\n",
    "    epoch_loss = 0\n",
    "    epoch_acc = 0\n",
    "    \n",
    "    model.train()\n",
    "    model.float()\n",
    "\n",
    "    for inputs, labels in loader:      \n",
    "        inputs, labels = inputs.to(device), labels.to(device)\n",
    "        optimizer.zero_grad()\n",
    "        output = model(inputs).squeeze(1)\n",
    "        loss = loss_fn(output, labels.float())\n",
    "        acc = accuracy(output, labels.float())\n",
    "        loss.backward()\n",
    "        optimizer.step()       \n",
    "        acc = accuracy(output, labels.float())\n",
    "        epoch_loss += loss.item()\n",
    "        epoch_acc += acc.item()\n",
    "\n",
    "    train_loss, train_accuracy = epoch_loss / len(loader), epoch_acc / len(loader) \n",
    "\n",
    "    return train_loss, train_accuracy\n",
    "\n",
    "def evaluate_CNN(model, loader, loss_fn):\n",
    "    \"\"\" \n",
    "    Evaluate CNN models\n",
    "    \"\"\"\n",
    "    epoch_loss = 0\n",
    "    epoch_acc = 0\n",
    "    \n",
    "    model.eval()\n",
    "    model.float()\n",
    "\n",
    "    with torch.no_grad():\n",
    "    \n",
    "        for inputs, labels in loader:\n",
    "          inputs, labels = inputs.to(device), labels.to(device)\n",
    "          output = model(inputs).squeeze(1)\n",
    "          loss = loss_fn(output, labels.float())\n",
    "          acc = accuracy(output, labels.float())\n",
    "          epoch_loss += loss.item()\n",
    "          epoch_acc += acc.item()\n",
    "\n",
    "    eval_loss, eval_accuracy = epoch_loss / len(loader), epoch_acc / len(loader)\n",
    "\n",
    "    return eval_loss, eval_accuracy"
   ]
  },
  {
   "cell_type": "code",
   "execution_count": null,
   "metadata": {
    "id": "VM6FhnUV4DPO"
   },
   "outputs": [],
   "source": [
    "def train_validate_model(model, train_loader, valid_loader, optimizer, loss_fn, n_epochs, model_type=None, name=None):\n",
    "    \"\"\" \n",
    "    Train & Evaluate model on Training & Validation Sets\n",
    "    \"\"\"\n",
    "    \n",
    "    best_valid_loss = float('inf')\n",
    "\n",
    "    print(\"Start training...\\n\")\n",
    "    print(f\"{'Epoch':^7} | {'Train Loss':^12} | {'Train Acc':^11} | {'Val Loss':^10} | {'Val Acc':^9}\")\n",
    "\n",
    "    for epoch in range(n_epochs):\n",
    "\n",
    "      if model_type == 'lstm':\n",
    "        train_loss, train_acc = train_LSTM(model, train_loader, optimizer, loss_fn)\n",
    "        valid_loss, valid_acc = evaluate_LSTM(model, valid_loader, loss_fn)   \n",
    "      else:\n",
    "        train_loss, train_acc = train_CNN(model, train_loader, optimizer, loss_fn)\n",
    "        valid_loss, valid_acc = evaluate_CNN(model, valid_loader, loss_fn)  \n",
    "\n",
    "      if valid_loss < best_valid_loss:\n",
    "          best_valid_loss = valid_loss\n",
    "          torch.save(model.state_dict(), f'{name}.pt')\n",
    "\n",
    "      print(f\"{epoch + 1:^7} | {train_loss:^12.6f} | {train_acc*100:^11.6f}% |{valid_loss:^10.6f} | {valid_acc*100:^9.2f}%\") "
   ]
  },
  {
   "cell_type": "code",
   "execution_count": null,
   "metadata": {
    "id": "gXPqFIqgfu51"
   },
   "outputs": [],
   "source": [
    "def load_and_test_model(model, test_loader, loss_fn, m_type=None, name=None):\n",
    "  \"\"\"\n",
    "  Load saved model & Evaluate on Test Set\n",
    "  \"\"\" \n",
    "  model.load_state_dict(torch.load(name))\n",
    "  if m_type == 'lstm':\n",
    "    test_loss, test_acc = evaluate_LSTM(model, test_loader, loss_fn)\n",
    "  else:\n",
    "    test_loss, test_acc = evaluate_CNN(model, test_loader, loss_fn)\n",
    "  \n",
    "  return test_loss, test_acc*100"
   ]
  },
  {
   "cell_type": "code",
   "execution_count": null,
   "metadata": {
    "colab": {
     "base_uri": "https://localhost:8080/"
    },
    "id": "7FeFBphiDlYf",
    "outputId": "1e5d2874-9974-493d-f896-f01a05588ef7"
   },
   "outputs": [
    {
     "name": "stdout",
     "output_type": "stream",
     "text": [
      "Start training...\n",
      "\n",
      " Epoch  |  Train Loss  |  Train Acc  |  Val Loss  |  Val Acc \n",
      "   1    |   0.496397   |  76.265001 % | 0.389510  |   84.68  %\n",
      "   2    |   0.329478   |  86.802501 % | 0.430764  |   82.74  %\n",
      "   3    |   0.325519   |  86.842501 % | 0.415927  |   82.38  %\n",
      "   4    |   0.325787   |  86.770001 % | 0.439804  |   80.90  %\n",
      "   5    |   0.358766   |  84.730001 % | 0.478681  |   80.58  %\n"
     ]
    }
   ],
   "source": [
    "train_validate_model(lstm, train_loader, valid_loader, opt_lstm, loss_fn_BCE, n_epochs=n_epochs, model_type = 'lstm',name='new_lstm')"
   ]
  },
  {
   "cell_type": "code",
   "execution_count": null,
   "metadata": {
    "colab": {
     "base_uri": "https://localhost:8080/"
    },
    "id": "4NdepaUJ9-T3",
    "outputId": "8adc1975-4427-454c-f401-198dea0dd692"
   },
   "outputs": [
    {
     "name": "stdout",
     "output_type": "stream",
     "text": [
      "Start training...\n",
      "\n",
      " Epoch  |  Train Loss  |  Train Acc  |  Val Loss  |  Val Acc \n",
      "   1    |   0.597998   |  77.977501 % | 0.321513  |   86.22  %\n",
      "   2    |   0.360030   |  89.527501 % | 1.089861  |   73.70  %\n",
      "   3    |   0.234858   |  94.305001 % | 0.948121  |   84.00  %\n",
      "   4    |   0.258795   |  95.545000 % | 1.678691  |   82.82  %\n",
      "   5    |   0.293086   |  96.212500 % | 2.427796  |   82.84  %\n"
     ]
    }
   ],
   "source": [
    "train_validate_model(cnn,train_loader, valid_loader, opt_cnn ,loss_fn_BCEwl ,n_epochs=n_epochs, name='new_cnn')"
   ]
  },
  {
   "cell_type": "code",
   "execution_count": null,
   "metadata": {
    "colab": {
     "base_uri": "https://localhost:8080/"
    },
    "id": "Lq1WPOEiktc5",
    "outputId": "c2326fd7-e9f6-4875-c6b3-889cecffc379"
   },
   "outputs": [
    {
     "name": "stdout",
     "output_type": "stream",
     "text": [
      "Start training...\n",
      "\n",
      " Epoch  |  Train Loss  |  Train Acc  |  Val Loss  |  Val Acc \n",
      "   1    |   0.384332   |  82.787502 % | 0.307830  |   87.56  %\n",
      "   2    |   0.169246   |  94.045001 % | 0.365190  |   86.60  %\n",
      "   3    |   0.091679   |  97.020000 % | 0.447440  |   86.20  %\n",
      "   4    |   0.051924   |  98.320000 % | 0.486047  |   86.54  %\n",
      "   5    |   0.043674   |  98.600000 % | 0.538481  |   84.54  %\n"
     ]
    }
   ],
   "source": [
    "train_validate_model(lstm_gl, train_loader, valid_loader, opt_lstm_gl, loss_fn_BCE, n_epochs=n_epochs, model_type = 'lstm',name='new_lstm_gl')"
   ]
  },
  {
   "cell_type": "code",
   "execution_count": null,
   "metadata": {
    "colab": {
     "base_uri": "https://localhost:8080/"
    },
    "id": "xh0vpIfy_vqA",
    "outputId": "9d5a01e1-5ecc-48af-853e-cc7ff25c1814"
   },
   "outputs": [
    {
     "name": "stdout",
     "output_type": "stream",
     "text": [
      "Start training...\n",
      "\n",
      " Epoch  |  Train Loss  |  Train Acc  |  Val Loss  |  Val Acc \n",
      "   1    |   0.494493   |  80.232501 % | 0.406822  |   85.00  %\n",
      "   2    |   0.336728   |  90.147501 % | 0.535621  |   85.28  %\n",
      "   3    |   0.266452   |  94.387501 % | 1.343444  |   84.22  %\n",
      "   4    |   0.253996   |  95.840000 % | 2.045397  |   83.34  %\n",
      "   5    |   0.304491   |  96.722500 % | 2.876580  |   83.92  %\n"
     ]
    }
   ],
   "source": [
    "train_validate_model(cnn_gl, train_loader, valid_loader, opt_cnn_gl, loss_fn_BCEwl , n_epochs=n_epochs, name='new_cnn_gl')"
   ]
  },
  {
   "cell_type": "markdown",
   "metadata": {
    "id": "reu2qlp6_frx"
   },
   "source": [
    "## Test Models"
   ]
  },
  {
   "cell_type": "code",
   "execution_count": null,
   "metadata": {
    "id": "LELmQkC4q02D"
   },
   "outputs": [],
   "source": [
    "lstm_loss , lstm_acc = load_and_test_model(lstm, test_loader, loss_fn_BCE, name='new_lstm.pt', m_type='lstm')\n",
    "lstm_gl_loss, lstm_gl_acc = load_and_test_model(lstm_gl, test_loader, loss_fn_BCE, name='new_lstm_gl.pt' , m_type='lstm')\n",
    "cnn_loss, cnn_acc = load_and_test_model(cnn, test_loader, loss_fn_BCEwl, name='new_cnn.pt')\n",
    "cnn_gl_loss, cnn_gl_acc = load_and_test_model(cnn_gl, test_loader, loss_fn_BCEwl, name='new_cnn_gl.pt')"
   ]
  },
  {
   "cell_type": "code",
   "execution_count": null,
   "metadata": {
    "colab": {
     "base_uri": "https://localhost:8080/"
    },
    "id": "TfdL2paJnq8m",
    "outputId": "3a485c2e-5417-487f-94ca-b64fd154f5f3"
   },
   "outputs": [
    {
     "name": "stdout",
     "output_type": "stream",
     "text": [
      " LSTM   |   0.389397   |  84.400001 %\n",
      "  CNN   |   0.330557   |  86.880001 %\n",
      "LSTM_gl |   0.300666   |  88.300001 %\n",
      "CNN_gl  |   0.398911   |  84.940002 %\n"
     ]
    }
   ],
   "source": [
    "print(f\"{'LSTM':^7} | {lstm_loss:^12.6f} | {lstm_acc:^11.6f}%\")\n",
    "print(f\"{'CNN':^7} | {cnn_loss:^12.6f} | {cnn_acc:^11.6f}%\")\n",
    "print(f\"{'LSTM_gl':^7} | {lstm_gl_loss:^12.6f} | {lstm_gl_acc:^11.6f}%\")\n",
    "print(f\"{'CNN_gl':^7} | {cnn_gl_loss:^12.6f} | {cnn_gl_acc:^11.6f}%\")"
   ]
  }
 ],
 "metadata": {
  "accelerator": "GPU",
  "colab": {
   "collapsed_sections": [],
   "name": "assignment2_3(BIG).ipynb",
   "provenance": []
  },
  "kernelspec": {
   "display_name": "Python 3 (ipykernel)",
   "language": "python",
   "name": "python3"
  },
  "language_info": {
   "codemirror_mode": {
    "name": "ipython",
    "version": 3
   },
   "file_extension": ".py",
   "mimetype": "text/x-python",
   "name": "python",
   "nbconvert_exporter": "python",
   "pygments_lexer": "ipython3",
   "version": "3.9.12"
  },
  "widgets": {
   "application/vnd.jupyter.widget-state+json": {
    "0610b0d3e1834af6b933291615415451": {
     "model_module": "@jupyter-widgets/controls",
     "model_module_version": "1.5.0",
     "model_name": "HBoxModel",
     "state": {
      "_dom_classes": [],
      "_model_module": "@jupyter-widgets/controls",
      "_model_module_version": "1.5.0",
      "_model_name": "HBoxModel",
      "_view_count": null,
      "_view_module": "@jupyter-widgets/controls",
      "_view_module_version": "1.5.0",
      "_view_name": "HBoxView",
      "box_style": "",
      "children": [
       "IPY_MODEL_f510fb02d0294a889b39dbc983f6645d",
       "IPY_MODEL_a50abeb24be44792a3dfcd9abe503aae",
       "IPY_MODEL_ca8e7a841cc34d928cf47e6c1ef1d6a6"
      ],
      "layout": "IPY_MODEL_be1d5bbe6a6c4f3b8bcb664b2fc28248"
     }
    },
    "0b04bf2b7c844eb1b227b9727834482d": {
     "model_module": "@jupyter-widgets/controls",
     "model_module_version": "1.5.0",
     "model_name": "HTMLModel",
     "state": {
      "_dom_classes": [],
      "_model_module": "@jupyter-widgets/controls",
      "_model_module_version": "1.5.0",
      "_model_name": "HTMLModel",
      "_view_count": null,
      "_view_module": "@jupyter-widgets/controls",
      "_view_module_version": "1.5.0",
      "_view_name": "HTMLView",
      "description": "",
      "description_tooltip": null,
      "layout": "IPY_MODEL_83321f87f5c04a8e8878e0e2185d43d2",
      "placeholder": "​",
      "style": "IPY_MODEL_bd5c28277cc046dd8e4b89d9ddbbc07f",
      "value": " 483/483 [00:00&lt;00:00, 11.3kB/s]"
     }
    },
    "0e00dfde6a5a4d84bafbc7390e51212f": {
     "model_module": "@jupyter-widgets/controls",
     "model_module_version": "1.5.0",
     "model_name": "HTMLModel",
     "state": {
      "_dom_classes": [],
      "_model_module": "@jupyter-widgets/controls",
      "_model_module_version": "1.5.0",
      "_model_name": "HTMLModel",
      "_view_count": null,
      "_view_module": "@jupyter-widgets/controls",
      "_view_module_version": "1.5.0",
      "_view_name": "HTMLView",
      "description": "",
      "description_tooltip": null,
      "layout": "IPY_MODEL_435f271a12394bdea31c1792d1c05d4a",
      "placeholder": "​",
      "style": "IPY_MODEL_24f7d9f4646c428abe1a54f625dda932",
      "value": "Downloading: 100%"
     }
    },
    "10c093df494642018ce8caba92e72aa7": {
     "model_module": "@jupyter-widgets/controls",
     "model_module_version": "1.5.0",
     "model_name": "ProgressStyleModel",
     "state": {
      "_model_module": "@jupyter-widgets/controls",
      "_model_module_version": "1.5.0",
      "_model_name": "ProgressStyleModel",
      "_view_count": null,
      "_view_module": "@jupyter-widgets/base",
      "_view_module_version": "1.2.0",
      "_view_name": "StyleView",
      "bar_color": null,
      "description_width": ""
     }
    },
    "15410e877b2b4c7aa27067e7a4ba4069": {
     "model_module": "@jupyter-widgets/base",
     "model_module_version": "1.2.0",
     "model_name": "LayoutModel",
     "state": {
      "_model_module": "@jupyter-widgets/base",
      "_model_module_version": "1.2.0",
      "_model_name": "LayoutModel",
      "_view_count": null,
      "_view_module": "@jupyter-widgets/base",
      "_view_module_version": "1.2.0",
      "_view_name": "LayoutView",
      "align_content": null,
      "align_items": null,
      "align_self": null,
      "border": null,
      "bottom": null,
      "display": null,
      "flex": null,
      "flex_flow": null,
      "grid_area": null,
      "grid_auto_columns": null,
      "grid_auto_flow": null,
      "grid_auto_rows": null,
      "grid_column": null,
      "grid_gap": null,
      "grid_row": null,
      "grid_template_areas": null,
      "grid_template_columns": null,
      "grid_template_rows": null,
      "height": null,
      "justify_content": null,
      "justify_items": null,
      "left": null,
      "margin": null,
      "max_height": null,
      "max_width": null,
      "min_height": null,
      "min_width": null,
      "object_fit": null,
      "object_position": null,
      "order": null,
      "overflow": null,
      "overflow_x": null,
      "overflow_y": null,
      "padding": null,
      "right": null,
      "top": null,
      "visibility": null,
      "width": null
     }
    },
    "24f7d9f4646c428abe1a54f625dda932": {
     "model_module": "@jupyter-widgets/controls",
     "model_module_version": "1.5.0",
     "model_name": "DescriptionStyleModel",
     "state": {
      "_model_module": "@jupyter-widgets/controls",
      "_model_module_version": "1.5.0",
      "_model_name": "DescriptionStyleModel",
      "_view_count": null,
      "_view_module": "@jupyter-widgets/base",
      "_view_module_version": "1.2.0",
      "_view_name": "StyleView",
      "description_width": ""
     }
    },
    "3a913e48e4354ee39d83834de9433b89": {
     "model_module": "@jupyter-widgets/base",
     "model_module_version": "1.2.0",
     "model_name": "LayoutModel",
     "state": {
      "_model_module": "@jupyter-widgets/base",
      "_model_module_version": "1.2.0",
      "_model_name": "LayoutModel",
      "_view_count": null,
      "_view_module": "@jupyter-widgets/base",
      "_view_module_version": "1.2.0",
      "_view_name": "LayoutView",
      "align_content": null,
      "align_items": null,
      "align_self": null,
      "border": null,
      "bottom": null,
      "display": null,
      "flex": null,
      "flex_flow": null,
      "grid_area": null,
      "grid_auto_columns": null,
      "grid_auto_flow": null,
      "grid_auto_rows": null,
      "grid_column": null,
      "grid_gap": null,
      "grid_row": null,
      "grid_template_areas": null,
      "grid_template_columns": null,
      "grid_template_rows": null,
      "height": null,
      "justify_content": null,
      "justify_items": null,
      "left": null,
      "margin": null,
      "max_height": null,
      "max_width": null,
      "min_height": null,
      "min_width": null,
      "object_fit": null,
      "object_position": null,
      "order": null,
      "overflow": null,
      "overflow_x": null,
      "overflow_y": null,
      "padding": null,
      "right": null,
      "top": null,
      "visibility": null,
      "width": null
     }
    },
    "3c093b6051ad4ef2ac9f1bafa63cf154": {
     "model_module": "@jupyter-widgets/base",
     "model_module_version": "1.2.0",
     "model_name": "LayoutModel",
     "state": {
      "_model_module": "@jupyter-widgets/base",
      "_model_module_version": "1.2.0",
      "_model_name": "LayoutModel",
      "_view_count": null,
      "_view_module": "@jupyter-widgets/base",
      "_view_module_version": "1.2.0",
      "_view_name": "LayoutView",
      "align_content": null,
      "align_items": null,
      "align_self": null,
      "border": null,
      "bottom": null,
      "display": null,
      "flex": null,
      "flex_flow": null,
      "grid_area": null,
      "grid_auto_columns": null,
      "grid_auto_flow": null,
      "grid_auto_rows": null,
      "grid_column": null,
      "grid_gap": null,
      "grid_row": null,
      "grid_template_areas": null,
      "grid_template_columns": null,
      "grid_template_rows": null,
      "height": null,
      "justify_content": null,
      "justify_items": null,
      "left": null,
      "margin": null,
      "max_height": null,
      "max_width": null,
      "min_height": null,
      "min_width": null,
      "object_fit": null,
      "object_position": null,
      "order": null,
      "overflow": null,
      "overflow_x": null,
      "overflow_y": null,
      "padding": null,
      "right": null,
      "top": null,
      "visibility": null,
      "width": null
     }
    },
    "3e773a361b884291a696353d1b21d3ea": {
     "model_module": "@jupyter-widgets/base",
     "model_module_version": "1.2.0",
     "model_name": "LayoutModel",
     "state": {
      "_model_module": "@jupyter-widgets/base",
      "_model_module_version": "1.2.0",
      "_model_name": "LayoutModel",
      "_view_count": null,
      "_view_module": "@jupyter-widgets/base",
      "_view_module_version": "1.2.0",
      "_view_name": "LayoutView",
      "align_content": null,
      "align_items": null,
      "align_self": null,
      "border": null,
      "bottom": null,
      "display": null,
      "flex": null,
      "flex_flow": null,
      "grid_area": null,
      "grid_auto_columns": null,
      "grid_auto_flow": null,
      "grid_auto_rows": null,
      "grid_column": null,
      "grid_gap": null,
      "grid_row": null,
      "grid_template_areas": null,
      "grid_template_columns": null,
      "grid_template_rows": null,
      "height": null,
      "justify_content": null,
      "justify_items": null,
      "left": null,
      "margin": null,
      "max_height": null,
      "max_width": null,
      "min_height": null,
      "min_width": null,
      "object_fit": null,
      "object_position": null,
      "order": null,
      "overflow": null,
      "overflow_x": null,
      "overflow_y": null,
      "padding": null,
      "right": null,
      "top": null,
      "visibility": null,
      "width": null
     }
    },
    "40ce563b11654f45b4106c6361021ff8": {
     "model_module": "@jupyter-widgets/controls",
     "model_module_version": "1.5.0",
     "model_name": "FloatProgressModel",
     "state": {
      "_dom_classes": [],
      "_model_module": "@jupyter-widgets/controls",
      "_model_module_version": "1.5.0",
      "_model_name": "FloatProgressModel",
      "_view_count": null,
      "_view_module": "@jupyter-widgets/controls",
      "_view_module_version": "1.5.0",
      "_view_name": "ProgressView",
      "bar_style": "success",
      "description": "",
      "description_tooltip": null,
      "layout": "IPY_MODEL_950fce8f204240e6908c2c01fd65e5f6",
      "max": 28,
      "min": 0,
      "orientation": "horizontal",
      "style": "IPY_MODEL_fe0e0666dfa24af1baf4a1886851e5f2",
      "value": 28
     }
    },
    "414700ba8f5948e09f9f7dcdd442067b": {
     "model_module": "@jupyter-widgets/controls",
     "model_module_version": "1.5.0",
     "model_name": "HTMLModel",
     "state": {
      "_dom_classes": [],
      "_model_module": "@jupyter-widgets/controls",
      "_model_module_version": "1.5.0",
      "_model_name": "HTMLModel",
      "_view_count": null,
      "_view_module": "@jupyter-widgets/controls",
      "_view_module_version": "1.5.0",
      "_view_name": "HTMLView",
      "description": "",
      "description_tooltip": null,
      "layout": "IPY_MODEL_53eecdfb9397420bbfb32b3dd2a0bf57",
      "placeholder": "​",
      "style": "IPY_MODEL_9a8acaea75f546448401781e2b2b8a9c",
      "value": " 28.0/28.0 [00:00&lt;00:00, 614B/s]"
     }
    },
    "435f271a12394bdea31c1792d1c05d4a": {
     "model_module": "@jupyter-widgets/base",
     "model_module_version": "1.2.0",
     "model_name": "LayoutModel",
     "state": {
      "_model_module": "@jupyter-widgets/base",
      "_model_module_version": "1.2.0",
      "_model_name": "LayoutModel",
      "_view_count": null,
      "_view_module": "@jupyter-widgets/base",
      "_view_module_version": "1.2.0",
      "_view_name": "LayoutView",
      "align_content": null,
      "align_items": null,
      "align_self": null,
      "border": null,
      "bottom": null,
      "display": null,
      "flex": null,
      "flex_flow": null,
      "grid_area": null,
      "grid_auto_columns": null,
      "grid_auto_flow": null,
      "grid_auto_rows": null,
      "grid_column": null,
      "grid_gap": null,
      "grid_row": null,
      "grid_template_areas": null,
      "grid_template_columns": null,
      "grid_template_rows": null,
      "height": null,
      "justify_content": null,
      "justify_items": null,
      "left": null,
      "margin": null,
      "max_height": null,
      "max_width": null,
      "min_height": null,
      "min_width": null,
      "object_fit": null,
      "object_position": null,
      "order": null,
      "overflow": null,
      "overflow_x": null,
      "overflow_y": null,
      "padding": null,
      "right": null,
      "top": null,
      "visibility": null,
      "width": null
     }
    },
    "461d5de1bc9a47ca95d98e6e430121ec": {
     "model_module": "@jupyter-widgets/controls",
     "model_module_version": "1.5.0",
     "model_name": "HTMLModel",
     "state": {
      "_dom_classes": [],
      "_model_module": "@jupyter-widgets/controls",
      "_model_module_version": "1.5.0",
      "_model_name": "HTMLModel",
      "_view_count": null,
      "_view_module": "@jupyter-widgets/controls",
      "_view_module_version": "1.5.0",
      "_view_name": "HTMLView",
      "description": "",
      "description_tooltip": null,
      "layout": "IPY_MODEL_b8284be6cd954a9e98a1e264dab6af17",
      "placeholder": "​",
      "style": "IPY_MODEL_d6c199f085c44c91b2fb53b8c3ac5e36",
      "value": " 256M/256M [00:08&lt;00:00, 34.2MB/s]"
     }
    },
    "4b5004db1d3b4731b6647b1657fa51b8": {
     "model_module": "@jupyter-widgets/controls",
     "model_module_version": "1.5.0",
     "model_name": "HTMLModel",
     "state": {
      "_dom_classes": [],
      "_model_module": "@jupyter-widgets/controls",
      "_model_module_version": "1.5.0",
      "_model_name": "HTMLModel",
      "_view_count": null,
      "_view_module": "@jupyter-widgets/controls",
      "_view_module_version": "1.5.0",
      "_view_name": "HTMLView",
      "description": "",
      "description_tooltip": null,
      "layout": "IPY_MODEL_69d1698bb68a499eb5e33c666f3b0526",
      "placeholder": "​",
      "style": "IPY_MODEL_ba0ef0a281d64078b9524f66429fc429",
      "value": "Downloading: 100%"
     }
    },
    "4f9ca757c49547d39178625593619868": {
     "model_module": "@jupyter-widgets/controls",
     "model_module_version": "1.5.0",
     "model_name": "HTMLModel",
     "state": {
      "_dom_classes": [],
      "_model_module": "@jupyter-widgets/controls",
      "_model_module_version": "1.5.0",
      "_model_name": "HTMLModel",
      "_view_count": null,
      "_view_module": "@jupyter-widgets/controls",
      "_view_module_version": "1.5.0",
      "_view_name": "HTMLView",
      "description": "",
      "description_tooltip": null,
      "layout": "IPY_MODEL_15410e877b2b4c7aa27067e7a4ba4069",
      "placeholder": "​",
      "style": "IPY_MODEL_5c6cd60569314e25922acbe346bc0cca",
      "value": "Downloading: 100%"
     }
    },
    "4fb17a8079bc48ec81e23203e276a21a": {
     "model_module": "@jupyter-widgets/controls",
     "model_module_version": "1.5.0",
     "model_name": "HTMLModel",
     "state": {
      "_dom_classes": [],
      "_model_module": "@jupyter-widgets/controls",
      "_model_module_version": "1.5.0",
      "_model_name": "HTMLModel",
      "_view_count": null,
      "_view_module": "@jupyter-widgets/controls",
      "_view_module_version": "1.5.0",
      "_view_name": "HTMLView",
      "description": "",
      "description_tooltip": null,
      "layout": "IPY_MODEL_3c093b6051ad4ef2ac9f1bafa63cf154",
      "placeholder": "​",
      "style": "IPY_MODEL_7c6f193e04264429b6c4d0fab069ba86",
      "value": "Downloading: 100%"
     }
    },
    "51579eb219164ed3b682c4353deafb78": {
     "model_module": "@jupyter-widgets/controls",
     "model_module_version": "1.5.0",
     "model_name": "DescriptionStyleModel",
     "state": {
      "_model_module": "@jupyter-widgets/controls",
      "_model_module_version": "1.5.0",
      "_model_name": "DescriptionStyleModel",
      "_view_count": null,
      "_view_module": "@jupyter-widgets/base",
      "_view_module_version": "1.2.0",
      "_view_name": "StyleView",
      "description_width": ""
     }
    },
    "53eecdfb9397420bbfb32b3dd2a0bf57": {
     "model_module": "@jupyter-widgets/base",
     "model_module_version": "1.2.0",
     "model_name": "LayoutModel",
     "state": {
      "_model_module": "@jupyter-widgets/base",
      "_model_module_version": "1.2.0",
      "_model_name": "LayoutModel",
      "_view_count": null,
      "_view_module": "@jupyter-widgets/base",
      "_view_module_version": "1.2.0",
      "_view_name": "LayoutView",
      "align_content": null,
      "align_items": null,
      "align_self": null,
      "border": null,
      "bottom": null,
      "display": null,
      "flex": null,
      "flex_flow": null,
      "grid_area": null,
      "grid_auto_columns": null,
      "grid_auto_flow": null,
      "grid_auto_rows": null,
      "grid_column": null,
      "grid_gap": null,
      "grid_row": null,
      "grid_template_areas": null,
      "grid_template_columns": null,
      "grid_template_rows": null,
      "height": null,
      "justify_content": null,
      "justify_items": null,
      "left": null,
      "margin": null,
      "max_height": null,
      "max_width": null,
      "min_height": null,
      "min_width": null,
      "object_fit": null,
      "object_position": null,
      "order": null,
      "overflow": null,
      "overflow_x": null,
      "overflow_y": null,
      "padding": null,
      "right": null,
      "top": null,
      "visibility": null,
      "width": null
     }
    },
    "57695b4032cd4960919af996927814f6": {
     "model_module": "@jupyter-widgets/base",
     "model_module_version": "1.2.0",
     "model_name": "LayoutModel",
     "state": {
      "_model_module": "@jupyter-widgets/base",
      "_model_module_version": "1.2.0",
      "_model_name": "LayoutModel",
      "_view_count": null,
      "_view_module": "@jupyter-widgets/base",
      "_view_module_version": "1.2.0",
      "_view_name": "LayoutView",
      "align_content": null,
      "align_items": null,
      "align_self": null,
      "border": null,
      "bottom": null,
      "display": null,
      "flex": null,
      "flex_flow": null,
      "grid_area": null,
      "grid_auto_columns": null,
      "grid_auto_flow": null,
      "grid_auto_rows": null,
      "grid_column": null,
      "grid_gap": null,
      "grid_row": null,
      "grid_template_areas": null,
      "grid_template_columns": null,
      "grid_template_rows": null,
      "height": null,
      "justify_content": null,
      "justify_items": null,
      "left": null,
      "margin": null,
      "max_height": null,
      "max_width": null,
      "min_height": null,
      "min_width": null,
      "object_fit": null,
      "object_position": null,
      "order": null,
      "overflow": null,
      "overflow_x": null,
      "overflow_y": null,
      "padding": null,
      "right": null,
      "top": null,
      "visibility": null,
      "width": null
     }
    },
    "5c6cd60569314e25922acbe346bc0cca": {
     "model_module": "@jupyter-widgets/controls",
     "model_module_version": "1.5.0",
     "model_name": "DescriptionStyleModel",
     "state": {
      "_model_module": "@jupyter-widgets/controls",
      "_model_module_version": "1.5.0",
      "_model_name": "DescriptionStyleModel",
      "_view_count": null,
      "_view_module": "@jupyter-widgets/base",
      "_view_module_version": "1.2.0",
      "_view_name": "StyleView",
      "description_width": ""
     }
    },
    "69d1698bb68a499eb5e33c666f3b0526": {
     "model_module": "@jupyter-widgets/base",
     "model_module_version": "1.2.0",
     "model_name": "LayoutModel",
     "state": {
      "_model_module": "@jupyter-widgets/base",
      "_model_module_version": "1.2.0",
      "_model_name": "LayoutModel",
      "_view_count": null,
      "_view_module": "@jupyter-widgets/base",
      "_view_module_version": "1.2.0",
      "_view_name": "LayoutView",
      "align_content": null,
      "align_items": null,
      "align_self": null,
      "border": null,
      "bottom": null,
      "display": null,
      "flex": null,
      "flex_flow": null,
      "grid_area": null,
      "grid_auto_columns": null,
      "grid_auto_flow": null,
      "grid_auto_rows": null,
      "grid_column": null,
      "grid_gap": null,
      "grid_row": null,
      "grid_template_areas": null,
      "grid_template_columns": null,
      "grid_template_rows": null,
      "height": null,
      "justify_content": null,
      "justify_items": null,
      "left": null,
      "margin": null,
      "max_height": null,
      "max_width": null,
      "min_height": null,
      "min_width": null,
      "object_fit": null,
      "object_position": null,
      "order": null,
      "overflow": null,
      "overflow_x": null,
      "overflow_y": null,
      "padding": null,
      "right": null,
      "top": null,
      "visibility": null,
      "width": null
     }
    },
    "7bea5e1625494f14bcfab82e66ff39da": {
     "model_module": "@jupyter-widgets/controls",
     "model_module_version": "1.5.0",
     "model_name": "ProgressStyleModel",
     "state": {
      "_model_module": "@jupyter-widgets/controls",
      "_model_module_version": "1.5.0",
      "_model_name": "ProgressStyleModel",
      "_view_count": null,
      "_view_module": "@jupyter-widgets/base",
      "_view_module_version": "1.2.0",
      "_view_name": "StyleView",
      "bar_color": null,
      "description_width": ""
     }
    },
    "7c6f193e04264429b6c4d0fab069ba86": {
     "model_module": "@jupyter-widgets/controls",
     "model_module_version": "1.5.0",
     "model_name": "DescriptionStyleModel",
     "state": {
      "_model_module": "@jupyter-widgets/controls",
      "_model_module_version": "1.5.0",
      "_model_name": "DescriptionStyleModel",
      "_view_count": null,
      "_view_module": "@jupyter-widgets/base",
      "_view_module_version": "1.2.0",
      "_view_name": "StyleView",
      "description_width": ""
     }
    },
    "7de9796e13204ead862b68e4aa0f50ee": {
     "model_module": "@jupyter-widgets/base",
     "model_module_version": "1.2.0",
     "model_name": "LayoutModel",
     "state": {
      "_model_module": "@jupyter-widgets/base",
      "_model_module_version": "1.2.0",
      "_model_name": "LayoutModel",
      "_view_count": null,
      "_view_module": "@jupyter-widgets/base",
      "_view_module_version": "1.2.0",
      "_view_name": "LayoutView",
      "align_content": null,
      "align_items": null,
      "align_self": null,
      "border": null,
      "bottom": null,
      "display": null,
      "flex": null,
      "flex_flow": null,
      "grid_area": null,
      "grid_auto_columns": null,
      "grid_auto_flow": null,
      "grid_auto_rows": null,
      "grid_column": null,
      "grid_gap": null,
      "grid_row": null,
      "grid_template_areas": null,
      "grid_template_columns": null,
      "grid_template_rows": null,
      "height": null,
      "justify_content": null,
      "justify_items": null,
      "left": null,
      "margin": null,
      "max_height": null,
      "max_width": null,
      "min_height": null,
      "min_width": null,
      "object_fit": null,
      "object_position": null,
      "order": null,
      "overflow": null,
      "overflow_x": null,
      "overflow_y": null,
      "padding": null,
      "right": null,
      "top": null,
      "visibility": null,
      "width": null
     }
    },
    "8037b4baa25741c0a5d717af53181589": {
     "model_module": "@jupyter-widgets/controls",
     "model_module_version": "1.5.0",
     "model_name": "FloatProgressModel",
     "state": {
      "_dom_classes": [],
      "_model_module": "@jupyter-widgets/controls",
      "_model_module_version": "1.5.0",
      "_model_name": "FloatProgressModel",
      "_view_count": null,
      "_view_module": "@jupyter-widgets/controls",
      "_view_module_version": "1.5.0",
      "_view_name": "ProgressView",
      "bar_style": "success",
      "description": "",
      "description_tooltip": null,
      "layout": "IPY_MODEL_3e773a361b884291a696353d1b21d3ea",
      "max": 483,
      "min": 0,
      "orientation": "horizontal",
      "style": "IPY_MODEL_10c093df494642018ce8caba92e72aa7",
      "value": 483
     }
    },
    "83321f87f5c04a8e8878e0e2185d43d2": {
     "model_module": "@jupyter-widgets/base",
     "model_module_version": "1.2.0",
     "model_name": "LayoutModel",
     "state": {
      "_model_module": "@jupyter-widgets/base",
      "_model_module_version": "1.2.0",
      "_model_name": "LayoutModel",
      "_view_count": null,
      "_view_module": "@jupyter-widgets/base",
      "_view_module_version": "1.2.0",
      "_view_name": "LayoutView",
      "align_content": null,
      "align_items": null,
      "align_self": null,
      "border": null,
      "bottom": null,
      "display": null,
      "flex": null,
      "flex_flow": null,
      "grid_area": null,
      "grid_auto_columns": null,
      "grid_auto_flow": null,
      "grid_auto_rows": null,
      "grid_column": null,
      "grid_gap": null,
      "grid_row": null,
      "grid_template_areas": null,
      "grid_template_columns": null,
      "grid_template_rows": null,
      "height": null,
      "justify_content": null,
      "justify_items": null,
      "left": null,
      "margin": null,
      "max_height": null,
      "max_width": null,
      "min_height": null,
      "min_width": null,
      "object_fit": null,
      "object_position": null,
      "order": null,
      "overflow": null,
      "overflow_x": null,
      "overflow_y": null,
      "padding": null,
      "right": null,
      "top": null,
      "visibility": null,
      "width": null
     }
    },
    "85e80579677d49749b586f30c4204767": {
     "model_module": "@jupyter-widgets/controls",
     "model_module_version": "1.5.0",
     "model_name": "HBoxModel",
     "state": {
      "_dom_classes": [],
      "_model_module": "@jupyter-widgets/controls",
      "_model_module_version": "1.5.0",
      "_model_name": "HBoxModel",
      "_view_count": null,
      "_view_module": "@jupyter-widgets/controls",
      "_view_module_version": "1.5.0",
      "_view_name": "HBoxView",
      "box_style": "",
      "children": [
       "IPY_MODEL_4fb17a8079bc48ec81e23203e276a21a",
       "IPY_MODEL_40ce563b11654f45b4106c6361021ff8",
       "IPY_MODEL_414700ba8f5948e09f9f7dcdd442067b"
      ],
      "layout": "IPY_MODEL_fed497df6f5c43b0aab2f9571c42a3f6"
     }
    },
    "950fce8f204240e6908c2c01fd65e5f6": {
     "model_module": "@jupyter-widgets/base",
     "model_module_version": "1.2.0",
     "model_name": "LayoutModel",
     "state": {
      "_model_module": "@jupyter-widgets/base",
      "_model_module_version": "1.2.0",
      "_model_name": "LayoutModel",
      "_view_count": null,
      "_view_module": "@jupyter-widgets/base",
      "_view_module_version": "1.2.0",
      "_view_name": "LayoutView",
      "align_content": null,
      "align_items": null,
      "align_self": null,
      "border": null,
      "bottom": null,
      "display": null,
      "flex": null,
      "flex_flow": null,
      "grid_area": null,
      "grid_auto_columns": null,
      "grid_auto_flow": null,
      "grid_auto_rows": null,
      "grid_column": null,
      "grid_gap": null,
      "grid_row": null,
      "grid_template_areas": null,
      "grid_template_columns": null,
      "grid_template_rows": null,
      "height": null,
      "justify_content": null,
      "justify_items": null,
      "left": null,
      "margin": null,
      "max_height": null,
      "max_width": null,
      "min_height": null,
      "min_width": null,
      "object_fit": null,
      "object_position": null,
      "order": null,
      "overflow": null,
      "overflow_x": null,
      "overflow_y": null,
      "padding": null,
      "right": null,
      "top": null,
      "visibility": null,
      "width": null
     }
    },
    "979a0082f6304482be102d90e702e05b": {
     "model_module": "@jupyter-widgets/base",
     "model_module_version": "1.2.0",
     "model_name": "LayoutModel",
     "state": {
      "_model_module": "@jupyter-widgets/base",
      "_model_module_version": "1.2.0",
      "_model_name": "LayoutModel",
      "_view_count": null,
      "_view_module": "@jupyter-widgets/base",
      "_view_module_version": "1.2.0",
      "_view_name": "LayoutView",
      "align_content": null,
      "align_items": null,
      "align_self": null,
      "border": null,
      "bottom": null,
      "display": null,
      "flex": null,
      "flex_flow": null,
      "grid_area": null,
      "grid_auto_columns": null,
      "grid_auto_flow": null,
      "grid_auto_rows": null,
      "grid_column": null,
      "grid_gap": null,
      "grid_row": null,
      "grid_template_areas": null,
      "grid_template_columns": null,
      "grid_template_rows": null,
      "height": null,
      "justify_content": null,
      "justify_items": null,
      "left": null,
      "margin": null,
      "max_height": null,
      "max_width": null,
      "min_height": null,
      "min_width": null,
      "object_fit": null,
      "object_position": null,
      "order": null,
      "overflow": null,
      "overflow_x": null,
      "overflow_y": null,
      "padding": null,
      "right": null,
      "top": null,
      "visibility": null,
      "width": null
     }
    },
    "9a8acaea75f546448401781e2b2b8a9c": {
     "model_module": "@jupyter-widgets/controls",
     "model_module_version": "1.5.0",
     "model_name": "DescriptionStyleModel",
     "state": {
      "_model_module": "@jupyter-widgets/controls",
      "_model_module_version": "1.5.0",
      "_model_name": "DescriptionStyleModel",
      "_view_count": null,
      "_view_module": "@jupyter-widgets/base",
      "_view_module_version": "1.2.0",
      "_view_name": "StyleView",
      "description_width": ""
     }
    },
    "a50abeb24be44792a3dfcd9abe503aae": {
     "model_module": "@jupyter-widgets/controls",
     "model_module_version": "1.5.0",
     "model_name": "FloatProgressModel",
     "state": {
      "_dom_classes": [],
      "_model_module": "@jupyter-widgets/controls",
      "_model_module_version": "1.5.0",
      "_model_name": "FloatProgressModel",
      "_view_count": null,
      "_view_module": "@jupyter-widgets/controls",
      "_view_module_version": "1.5.0",
      "_view_name": "ProgressView",
      "bar_style": "success",
      "description": "",
      "description_tooltip": null,
      "layout": "IPY_MODEL_b34f71169e4949bb8a3af850f4237e26",
      "max": 231508,
      "min": 0,
      "orientation": "horizontal",
      "style": "IPY_MODEL_7bea5e1625494f14bcfab82e66ff39da",
      "value": 231508
     }
    },
    "af2d48f2fec241c0a1eba081353f5689": {
     "model_module": "@jupyter-widgets/controls",
     "model_module_version": "1.5.0",
     "model_name": "HBoxModel",
     "state": {
      "_dom_classes": [],
      "_model_module": "@jupyter-widgets/controls",
      "_model_module_version": "1.5.0",
      "_model_name": "HBoxModel",
      "_view_count": null,
      "_view_module": "@jupyter-widgets/controls",
      "_view_module_version": "1.5.0",
      "_view_name": "HBoxView",
      "box_style": "",
      "children": [
       "IPY_MODEL_4b5004db1d3b4731b6647b1657fa51b8",
       "IPY_MODEL_b0fca7fd7b154f3ab31f85dc23afd60c",
       "IPY_MODEL_461d5de1bc9a47ca95d98e6e430121ec"
      ],
      "layout": "IPY_MODEL_3a913e48e4354ee39d83834de9433b89"
     }
    },
    "b0fca7fd7b154f3ab31f85dc23afd60c": {
     "model_module": "@jupyter-widgets/controls",
     "model_module_version": "1.5.0",
     "model_name": "FloatProgressModel",
     "state": {
      "_dom_classes": [],
      "_model_module": "@jupyter-widgets/controls",
      "_model_module_version": "1.5.0",
      "_model_name": "FloatProgressModel",
      "_view_count": null,
      "_view_module": "@jupyter-widgets/controls",
      "_view_module_version": "1.5.0",
      "_view_name": "ProgressView",
      "bar_style": "success",
      "description": "",
      "description_tooltip": null,
      "layout": "IPY_MODEL_979a0082f6304482be102d90e702e05b",
      "max": 267967963,
      "min": 0,
      "orientation": "horizontal",
      "style": "IPY_MODEL_c1e65374372743229d81ef50e5ea7652",
      "value": 267967963
     }
    },
    "b34f71169e4949bb8a3af850f4237e26": {
     "model_module": "@jupyter-widgets/base",
     "model_module_version": "1.2.0",
     "model_name": "LayoutModel",
     "state": {
      "_model_module": "@jupyter-widgets/base",
      "_model_module_version": "1.2.0",
      "_model_name": "LayoutModel",
      "_view_count": null,
      "_view_module": "@jupyter-widgets/base",
      "_view_module_version": "1.2.0",
      "_view_name": "LayoutView",
      "align_content": null,
      "align_items": null,
      "align_self": null,
      "border": null,
      "bottom": null,
      "display": null,
      "flex": null,
      "flex_flow": null,
      "grid_area": null,
      "grid_auto_columns": null,
      "grid_auto_flow": null,
      "grid_auto_rows": null,
      "grid_column": null,
      "grid_gap": null,
      "grid_row": null,
      "grid_template_areas": null,
      "grid_template_columns": null,
      "grid_template_rows": null,
      "height": null,
      "justify_content": null,
      "justify_items": null,
      "left": null,
      "margin": null,
      "max_height": null,
      "max_width": null,
      "min_height": null,
      "min_width": null,
      "object_fit": null,
      "object_position": null,
      "order": null,
      "overflow": null,
      "overflow_x": null,
      "overflow_y": null,
      "padding": null,
      "right": null,
      "top": null,
      "visibility": null,
      "width": null
     }
    },
    "b8284be6cd954a9e98a1e264dab6af17": {
     "model_module": "@jupyter-widgets/base",
     "model_module_version": "1.2.0",
     "model_name": "LayoutModel",
     "state": {
      "_model_module": "@jupyter-widgets/base",
      "_model_module_version": "1.2.0",
      "_model_name": "LayoutModel",
      "_view_count": null,
      "_view_module": "@jupyter-widgets/base",
      "_view_module_version": "1.2.0",
      "_view_name": "LayoutView",
      "align_content": null,
      "align_items": null,
      "align_self": null,
      "border": null,
      "bottom": null,
      "display": null,
      "flex": null,
      "flex_flow": null,
      "grid_area": null,
      "grid_auto_columns": null,
      "grid_auto_flow": null,
      "grid_auto_rows": null,
      "grid_column": null,
      "grid_gap": null,
      "grid_row": null,
      "grid_template_areas": null,
      "grid_template_columns": null,
      "grid_template_rows": null,
      "height": null,
      "justify_content": null,
      "justify_items": null,
      "left": null,
      "margin": null,
      "max_height": null,
      "max_width": null,
      "min_height": null,
      "min_width": null,
      "object_fit": null,
      "object_position": null,
      "order": null,
      "overflow": null,
      "overflow_x": null,
      "overflow_y": null,
      "padding": null,
      "right": null,
      "top": null,
      "visibility": null,
      "width": null
     }
    },
    "ba0ef0a281d64078b9524f66429fc429": {
     "model_module": "@jupyter-widgets/controls",
     "model_module_version": "1.5.0",
     "model_name": "DescriptionStyleModel",
     "state": {
      "_model_module": "@jupyter-widgets/controls",
      "_model_module_version": "1.5.0",
      "_model_name": "DescriptionStyleModel",
      "_view_count": null,
      "_view_module": "@jupyter-widgets/base",
      "_view_module_version": "1.2.0",
      "_view_name": "StyleView",
      "description_width": ""
     }
    },
    "bd5c28277cc046dd8e4b89d9ddbbc07f": {
     "model_module": "@jupyter-widgets/controls",
     "model_module_version": "1.5.0",
     "model_name": "DescriptionStyleModel",
     "state": {
      "_model_module": "@jupyter-widgets/controls",
      "_model_module_version": "1.5.0",
      "_model_name": "DescriptionStyleModel",
      "_view_count": null,
      "_view_module": "@jupyter-widgets/base",
      "_view_module_version": "1.2.0",
      "_view_name": "StyleView",
      "description_width": ""
     }
    },
    "be0f39c5c7bb4500ac3affe6c243897f": {
     "model_module": "@jupyter-widgets/base",
     "model_module_version": "1.2.0",
     "model_name": "LayoutModel",
     "state": {
      "_model_module": "@jupyter-widgets/base",
      "_model_module_version": "1.2.0",
      "_model_name": "LayoutModel",
      "_view_count": null,
      "_view_module": "@jupyter-widgets/base",
      "_view_module_version": "1.2.0",
      "_view_name": "LayoutView",
      "align_content": null,
      "align_items": null,
      "align_self": null,
      "border": null,
      "bottom": null,
      "display": null,
      "flex": null,
      "flex_flow": null,
      "grid_area": null,
      "grid_auto_columns": null,
      "grid_auto_flow": null,
      "grid_auto_rows": null,
      "grid_column": null,
      "grid_gap": null,
      "grid_row": null,
      "grid_template_areas": null,
      "grid_template_columns": null,
      "grid_template_rows": null,
      "height": null,
      "justify_content": null,
      "justify_items": null,
      "left": null,
      "margin": null,
      "max_height": null,
      "max_width": null,
      "min_height": null,
      "min_width": null,
      "object_fit": null,
      "object_position": null,
      "order": null,
      "overflow": null,
      "overflow_x": null,
      "overflow_y": null,
      "padding": null,
      "right": null,
      "top": null,
      "visibility": null,
      "width": null
     }
    },
    "be1d5bbe6a6c4f3b8bcb664b2fc28248": {
     "model_module": "@jupyter-widgets/base",
     "model_module_version": "1.2.0",
     "model_name": "LayoutModel",
     "state": {
      "_model_module": "@jupyter-widgets/base",
      "_model_module_version": "1.2.0",
      "_model_name": "LayoutModel",
      "_view_count": null,
      "_view_module": "@jupyter-widgets/base",
      "_view_module_version": "1.2.0",
      "_view_name": "LayoutView",
      "align_content": null,
      "align_items": null,
      "align_self": null,
      "border": null,
      "bottom": null,
      "display": null,
      "flex": null,
      "flex_flow": null,
      "grid_area": null,
      "grid_auto_columns": null,
      "grid_auto_flow": null,
      "grid_auto_rows": null,
      "grid_column": null,
      "grid_gap": null,
      "grid_row": null,
      "grid_template_areas": null,
      "grid_template_columns": null,
      "grid_template_rows": null,
      "height": null,
      "justify_content": null,
      "justify_items": null,
      "left": null,
      "margin": null,
      "max_height": null,
      "max_width": null,
      "min_height": null,
      "min_width": null,
      "object_fit": null,
      "object_position": null,
      "order": null,
      "overflow": null,
      "overflow_x": null,
      "overflow_y": null,
      "padding": null,
      "right": null,
      "top": null,
      "visibility": null,
      "width": null
     }
    },
    "c1e65374372743229d81ef50e5ea7652": {
     "model_module": "@jupyter-widgets/controls",
     "model_module_version": "1.5.0",
     "model_name": "ProgressStyleModel",
     "state": {
      "_model_module": "@jupyter-widgets/controls",
      "_model_module_version": "1.5.0",
      "_model_name": "ProgressStyleModel",
      "_view_count": null,
      "_view_module": "@jupyter-widgets/base",
      "_view_module_version": "1.2.0",
      "_view_name": "StyleView",
      "bar_color": null,
      "description_width": ""
     }
    },
    "ca8e7a841cc34d928cf47e6c1ef1d6a6": {
     "model_module": "@jupyter-widgets/controls",
     "model_module_version": "1.5.0",
     "model_name": "HTMLModel",
     "state": {
      "_dom_classes": [],
      "_model_module": "@jupyter-widgets/controls",
      "_model_module_version": "1.5.0",
      "_model_name": "HTMLModel",
      "_view_count": null,
      "_view_module": "@jupyter-widgets/controls",
      "_view_module_version": "1.5.0",
      "_view_name": "HTMLView",
      "description": "",
      "description_tooltip": null,
      "layout": "IPY_MODEL_db9044c4e03e4f6b974d8d0430d0a644",
      "placeholder": "​",
      "style": "IPY_MODEL_fe72b56eb96240bf9df287d76e804f8f",
      "value": " 226k/226k [00:00&lt;00:00, 1.15MB/s]"
     }
    },
    "caefab34a5064f47bdb94c216d73c449": {
     "model_module": "@jupyter-widgets/controls",
     "model_module_version": "1.5.0",
     "model_name": "HBoxModel",
     "state": {
      "_dom_classes": [],
      "_model_module": "@jupyter-widgets/controls",
      "_model_module_version": "1.5.0",
      "_model_name": "HBoxModel",
      "_view_count": null,
      "_view_module": "@jupyter-widgets/controls",
      "_view_module_version": "1.5.0",
      "_view_name": "HBoxView",
      "box_style": "",
      "children": [
       "IPY_MODEL_4f9ca757c49547d39178625593619868",
       "IPY_MODEL_8037b4baa25741c0a5d717af53181589",
       "IPY_MODEL_0b04bf2b7c844eb1b227b9727834482d"
      ],
      "layout": "IPY_MODEL_f66be3369ce44321921db40c4a4d206f"
     }
    },
    "d6c199f085c44c91b2fb53b8c3ac5e36": {
     "model_module": "@jupyter-widgets/controls",
     "model_module_version": "1.5.0",
     "model_name": "DescriptionStyleModel",
     "state": {
      "_model_module": "@jupyter-widgets/controls",
      "_model_module_version": "1.5.0",
      "_model_name": "DescriptionStyleModel",
      "_view_count": null,
      "_view_module": "@jupyter-widgets/base",
      "_view_module_version": "1.2.0",
      "_view_name": "StyleView",
      "description_width": ""
     }
    },
    "db2b93e2708a4e10a529bf9b32d72f0e": {
     "model_module": "@jupyter-widgets/controls",
     "model_module_version": "1.5.0",
     "model_name": "DescriptionStyleModel",
     "state": {
      "_model_module": "@jupyter-widgets/controls",
      "_model_module_version": "1.5.0",
      "_model_name": "DescriptionStyleModel",
      "_view_count": null,
      "_view_module": "@jupyter-widgets/base",
      "_view_module_version": "1.2.0",
      "_view_name": "StyleView",
      "description_width": ""
     }
    },
    "db9044c4e03e4f6b974d8d0430d0a644": {
     "model_module": "@jupyter-widgets/base",
     "model_module_version": "1.2.0",
     "model_name": "LayoutModel",
     "state": {
      "_model_module": "@jupyter-widgets/base",
      "_model_module_version": "1.2.0",
      "_model_name": "LayoutModel",
      "_view_count": null,
      "_view_module": "@jupyter-widgets/base",
      "_view_module_version": "1.2.0",
      "_view_name": "LayoutView",
      "align_content": null,
      "align_items": null,
      "align_self": null,
      "border": null,
      "bottom": null,
      "display": null,
      "flex": null,
      "flex_flow": null,
      "grid_area": null,
      "grid_auto_columns": null,
      "grid_auto_flow": null,
      "grid_auto_rows": null,
      "grid_column": null,
      "grid_gap": null,
      "grid_row": null,
      "grid_template_areas": null,
      "grid_template_columns": null,
      "grid_template_rows": null,
      "height": null,
      "justify_content": null,
      "justify_items": null,
      "left": null,
      "margin": null,
      "max_height": null,
      "max_width": null,
      "min_height": null,
      "min_width": null,
      "object_fit": null,
      "object_position": null,
      "order": null,
      "overflow": null,
      "overflow_x": null,
      "overflow_y": null,
      "padding": null,
      "right": null,
      "top": null,
      "visibility": null,
      "width": null
     }
    },
    "e7531f2a25aa48e8ae654e3550225622": {
     "model_module": "@jupyter-widgets/base",
     "model_module_version": "1.2.0",
     "model_name": "LayoutModel",
     "state": {
      "_model_module": "@jupyter-widgets/base",
      "_model_module_version": "1.2.0",
      "_model_name": "LayoutModel",
      "_view_count": null,
      "_view_module": "@jupyter-widgets/base",
      "_view_module_version": "1.2.0",
      "_view_name": "LayoutView",
      "align_content": null,
      "align_items": null,
      "align_self": null,
      "border": null,
      "bottom": null,
      "display": null,
      "flex": null,
      "flex_flow": null,
      "grid_area": null,
      "grid_auto_columns": null,
      "grid_auto_flow": null,
      "grid_auto_rows": null,
      "grid_column": null,
      "grid_gap": null,
      "grid_row": null,
      "grid_template_areas": null,
      "grid_template_columns": null,
      "grid_template_rows": null,
      "height": null,
      "justify_content": null,
      "justify_items": null,
      "left": null,
      "margin": null,
      "max_height": null,
      "max_width": null,
      "min_height": null,
      "min_width": null,
      "object_fit": null,
      "object_position": null,
      "order": null,
      "overflow": null,
      "overflow_x": null,
      "overflow_y": null,
      "padding": null,
      "right": null,
      "top": null,
      "visibility": null,
      "width": null
     }
    },
    "ee939750c8dc44b0887af9b2f2e0afd6": {
     "model_module": "@jupyter-widgets/controls",
     "model_module_version": "1.5.0",
     "model_name": "HBoxModel",
     "state": {
      "_dom_classes": [],
      "_model_module": "@jupyter-widgets/controls",
      "_model_module_version": "1.5.0",
      "_model_name": "HBoxModel",
      "_view_count": null,
      "_view_module": "@jupyter-widgets/controls",
      "_view_module_version": "1.5.0",
      "_view_name": "HBoxView",
      "box_style": "",
      "children": [
       "IPY_MODEL_0e00dfde6a5a4d84bafbc7390e51212f",
       "IPY_MODEL_f3d025ec8dde43058493837739f2246b",
       "IPY_MODEL_fc1873a7a64849cda987c59f8fc41fc7"
      ],
      "layout": "IPY_MODEL_be0f39c5c7bb4500ac3affe6c243897f"
     }
    },
    "f3d025ec8dde43058493837739f2246b": {
     "model_module": "@jupyter-widgets/controls",
     "model_module_version": "1.5.0",
     "model_name": "FloatProgressModel",
     "state": {
      "_dom_classes": [],
      "_model_module": "@jupyter-widgets/controls",
      "_model_module_version": "1.5.0",
      "_model_name": "FloatProgressModel",
      "_view_count": null,
      "_view_module": "@jupyter-widgets/controls",
      "_view_module_version": "1.5.0",
      "_view_name": "ProgressView",
      "bar_style": "success",
      "description": "",
      "description_tooltip": null,
      "layout": "IPY_MODEL_e7531f2a25aa48e8ae654e3550225622",
      "max": 466062,
      "min": 0,
      "orientation": "horizontal",
      "style": "IPY_MODEL_ffc0ebea38024270baa17054770f2160",
      "value": 466062
     }
    },
    "f510fb02d0294a889b39dbc983f6645d": {
     "model_module": "@jupyter-widgets/controls",
     "model_module_version": "1.5.0",
     "model_name": "HTMLModel",
     "state": {
      "_dom_classes": [],
      "_model_module": "@jupyter-widgets/controls",
      "_model_module_version": "1.5.0",
      "_model_name": "HTMLModel",
      "_view_count": null,
      "_view_module": "@jupyter-widgets/controls",
      "_view_module_version": "1.5.0",
      "_view_name": "HTMLView",
      "description": "",
      "description_tooltip": null,
      "layout": "IPY_MODEL_7de9796e13204ead862b68e4aa0f50ee",
      "placeholder": "​",
      "style": "IPY_MODEL_51579eb219164ed3b682c4353deafb78",
      "value": "Downloading: 100%"
     }
    },
    "f66be3369ce44321921db40c4a4d206f": {
     "model_module": "@jupyter-widgets/base",
     "model_module_version": "1.2.0",
     "model_name": "LayoutModel",
     "state": {
      "_model_module": "@jupyter-widgets/base",
      "_model_module_version": "1.2.0",
      "_model_name": "LayoutModel",
      "_view_count": null,
      "_view_module": "@jupyter-widgets/base",
      "_view_module_version": "1.2.0",
      "_view_name": "LayoutView",
      "align_content": null,
      "align_items": null,
      "align_self": null,
      "border": null,
      "bottom": null,
      "display": null,
      "flex": null,
      "flex_flow": null,
      "grid_area": null,
      "grid_auto_columns": null,
      "grid_auto_flow": null,
      "grid_auto_rows": null,
      "grid_column": null,
      "grid_gap": null,
      "grid_row": null,
      "grid_template_areas": null,
      "grid_template_columns": null,
      "grid_template_rows": null,
      "height": null,
      "justify_content": null,
      "justify_items": null,
      "left": null,
      "margin": null,
      "max_height": null,
      "max_width": null,
      "min_height": null,
      "min_width": null,
      "object_fit": null,
      "object_position": null,
      "order": null,
      "overflow": null,
      "overflow_x": null,
      "overflow_y": null,
      "padding": null,
      "right": null,
      "top": null,
      "visibility": null,
      "width": null
     }
    },
    "fc1873a7a64849cda987c59f8fc41fc7": {
     "model_module": "@jupyter-widgets/controls",
     "model_module_version": "1.5.0",
     "model_name": "HTMLModel",
     "state": {
      "_dom_classes": [],
      "_model_module": "@jupyter-widgets/controls",
      "_model_module_version": "1.5.0",
      "_model_name": "HTMLModel",
      "_view_count": null,
      "_view_module": "@jupyter-widgets/controls",
      "_view_module_version": "1.5.0",
      "_view_name": "HTMLView",
      "description": "",
      "description_tooltip": null,
      "layout": "IPY_MODEL_57695b4032cd4960919af996927814f6",
      "placeholder": "​",
      "style": "IPY_MODEL_db2b93e2708a4e10a529bf9b32d72f0e",
      "value": " 455k/455k [00:00&lt;00:00, 1.19MB/s]"
     }
    },
    "fe0e0666dfa24af1baf4a1886851e5f2": {
     "model_module": "@jupyter-widgets/controls",
     "model_module_version": "1.5.0",
     "model_name": "ProgressStyleModel",
     "state": {
      "_model_module": "@jupyter-widgets/controls",
      "_model_module_version": "1.5.0",
      "_model_name": "ProgressStyleModel",
      "_view_count": null,
      "_view_module": "@jupyter-widgets/base",
      "_view_module_version": "1.2.0",
      "_view_name": "StyleView",
      "bar_color": null,
      "description_width": ""
     }
    },
    "fe72b56eb96240bf9df287d76e804f8f": {
     "model_module": "@jupyter-widgets/controls",
     "model_module_version": "1.5.0",
     "model_name": "DescriptionStyleModel",
     "state": {
      "_model_module": "@jupyter-widgets/controls",
      "_model_module_version": "1.5.0",
      "_model_name": "DescriptionStyleModel",
      "_view_count": null,
      "_view_module": "@jupyter-widgets/base",
      "_view_module_version": "1.2.0",
      "_view_name": "StyleView",
      "description_width": ""
     }
    },
    "fed497df6f5c43b0aab2f9571c42a3f6": {
     "model_module": "@jupyter-widgets/base",
     "model_module_version": "1.2.0",
     "model_name": "LayoutModel",
     "state": {
      "_model_module": "@jupyter-widgets/base",
      "_model_module_version": "1.2.0",
      "_model_name": "LayoutModel",
      "_view_count": null,
      "_view_module": "@jupyter-widgets/base",
      "_view_module_version": "1.2.0",
      "_view_name": "LayoutView",
      "align_content": null,
      "align_items": null,
      "align_self": null,
      "border": null,
      "bottom": null,
      "display": null,
      "flex": null,
      "flex_flow": null,
      "grid_area": null,
      "grid_auto_columns": null,
      "grid_auto_flow": null,
      "grid_auto_rows": null,
      "grid_column": null,
      "grid_gap": null,
      "grid_row": null,
      "grid_template_areas": null,
      "grid_template_columns": null,
      "grid_template_rows": null,
      "height": null,
      "justify_content": null,
      "justify_items": null,
      "left": null,
      "margin": null,
      "max_height": null,
      "max_width": null,
      "min_height": null,
      "min_width": null,
      "object_fit": null,
      "object_position": null,
      "order": null,
      "overflow": null,
      "overflow_x": null,
      "overflow_y": null,
      "padding": null,
      "right": null,
      "top": null,
      "visibility": null,
      "width": null
     }
    },
    "ffc0ebea38024270baa17054770f2160": {
     "model_module": "@jupyter-widgets/controls",
     "model_module_version": "1.5.0",
     "model_name": "ProgressStyleModel",
     "state": {
      "_model_module": "@jupyter-widgets/controls",
      "_model_module_version": "1.5.0",
      "_model_name": "ProgressStyleModel",
      "_view_count": null,
      "_view_module": "@jupyter-widgets/base",
      "_view_module_version": "1.2.0",
      "_view_name": "StyleView",
      "bar_color": null,
      "description_width": ""
     }
    }
   }
  }
 },
 "nbformat": 4,
 "nbformat_minor": 1
}
